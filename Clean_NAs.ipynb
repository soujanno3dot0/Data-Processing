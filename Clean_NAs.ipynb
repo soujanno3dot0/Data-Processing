{
  "nbformat": 4,
  "nbformat_minor": 0,
  "metadata": {
    "kernelspec": {
      "display_name": "Python 3",
      "language": "python",
      "name": "python3"
    },
    "language_info": {
      "codemirror_mode": {
        "name": "ipython",
        "version": 3
      },
      "file_extension": ".py",
      "mimetype": "text/x-python",
      "name": "python",
      "nbconvert_exporter": "python",
      "pygments_lexer": "ipython3",
      "version": "3.7.0"
    },
    "colab": {
      "name": "Clean_NAs.ipynb",
      "version": "0.3.2",
      "provenance": [],
      "include_colab_link": true
    }
  },
  "cells": [
    {
      "cell_type": "markdown",
      "metadata": {
        "id": "view-in-github",
        "colab_type": "text"
      },
      "source": [
        "<a href=\"https://colab.research.google.com/github/soujanno3dot0/Data-Processing/blob/master/Clean_NAs.ipynb\" target=\"_parent\"><img src=\"https://colab.research.google.com/assets/colab-badge.svg\" alt=\"Open In Colab\"/></a>"
      ]
    },
    {
      "cell_type": "code",
      "metadata": {
        "id": "LoYhBWnjDRL3",
        "colab_type": "code",
        "colab": {}
      },
      "source": [
        "import pandas as pd\n",
        "import numpy as np"
      ],
      "execution_count": 0,
      "outputs": []
    },
    {
      "cell_type": "markdown",
      "metadata": {
        "id": "pXpNno3UQMgi",
        "colab_type": "text"
      },
      "source": [
        "\n",
        "**Extract Data from Source**"
      ]
    },
    {
      "cell_type": "code",
      "metadata": {
        "scrolled": true,
        "id": "eyctOcbiDRL8",
        "colab_type": "code",
        "outputId": "789f4897-6cad-430a-9eb0-48b597c23e0c",
        "colab": {
          "base_uri": "https://localhost:8080/",
          "height": 139
        }
      },
      "source": [
        "marks = pd.read_csv('https://query.data.world/s/HqjNNadqEnwSq1qnoV_JqyRJkc7o6O')\n",
        "print(marks.isnull().sum())  #Type your answer here)"
      ],
      "execution_count": 0,
      "outputs": [
        {
          "output_type": "stream",
          "text": [
            "Prefix         0\n",
            "Assignment     2\n",
            "Tutorial      12\n",
            "Midterm       16\n",
            "TakeHome       9\n",
            "Final          5\n",
            "dtype: int64\n"
          ],
          "name": "stdout"
        }
      ]
    },
    {
      "cell_type": "markdown",
      "metadata": {
        "id": "hpq-7aGjQeF9",
        "colab_type": "text"
      },
      "source": [
        "**Create a copy**"
      ]
    },
    {
      "cell_type": "code",
      "metadata": {
        "id": "4ZHGnS7UDRMB",
        "colab_type": "code",
        "colab": {}
      },
      "source": [
        "dfObj = marks.copy()"
      ],
      "execution_count": 0,
      "outputs": []
    },
    {
      "cell_type": "code",
      "metadata": {
        "id": "i-ypGjrbDRMD",
        "colab_type": "code",
        "outputId": "8b7015bc-61de-451e-eda0-488d58456d85",
        "colab": {
          "base_uri": "https://localhost:8080/",
          "height": 294
        }
      },
      "source": [
        "dfObj.describe()"
      ],
      "execution_count": 0,
      "outputs": [
        {
          "output_type": "execute_result",
          "data": {
            "text/html": [
              "<div>\n",
              "<style scoped>\n",
              "    .dataframe tbody tr th:only-of-type {\n",
              "        vertical-align: middle;\n",
              "    }\n",
              "\n",
              "    .dataframe tbody tr th {\n",
              "        vertical-align: top;\n",
              "    }\n",
              "\n",
              "    .dataframe thead th {\n",
              "        text-align: right;\n",
              "    }\n",
              "</style>\n",
              "<table border=\"1\" class=\"dataframe\">\n",
              "  <thead>\n",
              "    <tr style=\"text-align: right;\">\n",
              "      <th></th>\n",
              "      <th>Prefix</th>\n",
              "      <th>Assignment</th>\n",
              "      <th>Tutorial</th>\n",
              "      <th>Midterm</th>\n",
              "      <th>TakeHome</th>\n",
              "      <th>Final</th>\n",
              "    </tr>\n",
              "  </thead>\n",
              "  <tbody>\n",
              "    <tr>\n",
              "      <th>count</th>\n",
              "      <td>99.000000</td>\n",
              "      <td>97.000000</td>\n",
              "      <td>87.000000</td>\n",
              "      <td>83.000000</td>\n",
              "      <td>90.000000</td>\n",
              "      <td>94.000000</td>\n",
              "    </tr>\n",
              "    <tr>\n",
              "      <th>mean</th>\n",
              "      <td>7.313131</td>\n",
              "      <td>85.382371</td>\n",
              "      <td>90.790460</td>\n",
              "      <td>67.620723</td>\n",
              "      <td>80.990667</td>\n",
              "      <td>68.309681</td>\n",
              "    </tr>\n",
              "    <tr>\n",
              "      <th>std</th>\n",
              "      <td>0.932918</td>\n",
              "      <td>12.669667</td>\n",
              "      <td>13.806141</td>\n",
              "      <td>19.345963</td>\n",
              "      <td>24.142027</td>\n",
              "      <td>18.985373</td>\n",
              "    </tr>\n",
              "    <tr>\n",
              "      <th>min</th>\n",
              "      <td>4.000000</td>\n",
              "      <td>28.140000</td>\n",
              "      <td>34.090000</td>\n",
              "      <td>28.750000</td>\n",
              "      <td>16.910000</td>\n",
              "      <td>28.060000</td>\n",
              "    </tr>\n",
              "    <tr>\n",
              "      <th>25%</th>\n",
              "      <td>7.000000</td>\n",
              "      <td>80.530000</td>\n",
              "      <td>86.660000</td>\n",
              "      <td>52.810000</td>\n",
              "      <td>71.850000</td>\n",
              "      <td>52.707500</td>\n",
              "    </tr>\n",
              "    <tr>\n",
              "      <th>50%</th>\n",
              "      <td>8.000000</td>\n",
              "      <td>89.940000</td>\n",
              "      <td>93.680000</td>\n",
              "      <td>68.750000</td>\n",
              "      <td>88.890000</td>\n",
              "      <td>65.835000</td>\n",
              "    </tr>\n",
              "    <tr>\n",
              "      <th>75%</th>\n",
              "      <td>8.000000</td>\n",
              "      <td>95.000000</td>\n",
              "      <td>100.580000</td>\n",
              "      <td>81.250000</td>\n",
              "      <td>98.747500</td>\n",
              "      <td>84.722500</td>\n",
              "    </tr>\n",
              "    <tr>\n",
              "      <th>max</th>\n",
              "      <td>8.000000</td>\n",
              "      <td>100.830000</td>\n",
              "      <td>112.580000</td>\n",
              "      <td>110.000000</td>\n",
              "      <td>108.890000</td>\n",
              "      <td>108.890000</td>\n",
              "    </tr>\n",
              "  </tbody>\n",
              "</table>\n",
              "</div>"
            ],
            "text/plain": [
              "          Prefix  Assignment    Tutorial     Midterm    TakeHome       Final\n",
              "count  99.000000   97.000000   87.000000   83.000000   90.000000   94.000000\n",
              "mean    7.313131   85.382371   90.790460   67.620723   80.990667   68.309681\n",
              "std     0.932918   12.669667   13.806141   19.345963   24.142027   18.985373\n",
              "min     4.000000   28.140000   34.090000   28.750000   16.910000   28.060000\n",
              "25%     7.000000   80.530000   86.660000   52.810000   71.850000   52.707500\n",
              "50%     8.000000   89.940000   93.680000   68.750000   88.890000   65.835000\n",
              "75%     8.000000   95.000000  100.580000   81.250000   98.747500   84.722500\n",
              "max     8.000000  100.830000  112.580000  110.000000  108.890000  108.890000"
            ]
          },
          "metadata": {
            "tags": []
          },
          "execution_count": 5
        }
      ]
    },
    {
      "cell_type": "code",
      "metadata": {
        "id": "Pzcx7y90DRMG",
        "colab_type": "code",
        "outputId": "9c18b3cc-79f6-4206-d855-84b41c98ed52",
        "colab": {
          "base_uri": "https://localhost:8080/",
          "height": 139
        }
      },
      "source": [
        "dfObj.isnull().sum()"
      ],
      "execution_count": 0,
      "outputs": [
        {
          "output_type": "execute_result",
          "data": {
            "text/plain": [
              "Prefix         0\n",
              "Assignment     2\n",
              "Tutorial      12\n",
              "Midterm       16\n",
              "TakeHome       9\n",
              "Final          5\n",
              "dtype: int64"
            ]
          },
          "metadata": {
            "tags": []
          },
          "execution_count": 6
        }
      ]
    },
    {
      "cell_type": "code",
      "metadata": {
        "id": "TGt855aaDRML",
        "colab_type": "code",
        "outputId": "df39b10b-cbb3-4bf4-ecd2-e76311590670",
        "colab": {
          "base_uri": "https://localhost:8080/",
          "height": 35
        }
      },
      "source": [
        "dfObj.isnull().sum().sum()"
      ],
      "execution_count": 0,
      "outputs": [
        {
          "output_type": "execute_result",
          "data": {
            "text/plain": [
              "44"
            ]
          },
          "metadata": {
            "tags": []
          },
          "execution_count": 7
        }
      ]
    },
    {
      "cell_type": "code",
      "metadata": {
        "id": "nCw9Z6k6DRMO",
        "colab_type": "code",
        "outputId": "0a8a44a6-6a92-4396-821d-6768f7db4e12",
        "colab": {
          "base_uri": "https://localhost:8080/",
          "height": 87
        }
      },
      "source": [
        "var = 0\n",
        "for i in range(len(dfObj.index)) :\n",
        "    temp = dfObj.copy()\n",
        "    if(  dfObj.iloc[i].isnull().sum() == 5 )  : \n",
        "        print(\"Nan in row \", i+1 , \" : \" ,  dfObj.iloc[i].isnull().sum())\n",
        "        print(\"dropping row at index \", i+1, \"...\")\n",
        "        #temp.drop(temp.index[i-1], inplace = True)\n",
        "        "
      ],
      "execution_count": 0,
      "outputs": [
        {
          "output_type": "stream",
          "text": [
            "Nan in row  74  :  5\n",
            "dropping row at index  74 ...\n",
            "Nan in row  91  :  5\n",
            "dropping row at index  91 ...\n"
          ],
          "name": "stdout"
        }
      ]
    },
    {
      "cell_type": "code",
      "metadata": {
        "id": "xWY1X9t4DRMQ",
        "colab_type": "code",
        "outputId": "1ca1b669-2fd2-4b4f-a900-3b8953fae558",
        "colab": {
          "base_uri": "https://localhost:8080/",
          "height": 52
        }
      },
      "source": [
        "idx = []\n",
        "for i in range(len(dfObj.index)) :\n",
        "    if(  dfObj.iloc[i].isnull().sum() == 5 )  : \n",
        "        print(\"Nan in row No \", i+1 , \" : Index No \" ,  dfObj.index[i])\n",
        "        idx.append(i)\n",
        "       "
      ],
      "execution_count": 0,
      "outputs": [
        {
          "output_type": "stream",
          "text": [
            "Nan in row No  74  : Index No  73\n",
            "Nan in row No  91  : Index No  90\n"
          ],
          "name": "stdout"
        }
      ]
    },
    {
      "cell_type": "code",
      "metadata": {
        "id": "DT5nzXIiDRMT",
        "colab_type": "code",
        "outputId": "4e496daf-0d3e-478c-ee52-efa3dd2a62b7",
        "colab": {
          "base_uri": "https://localhost:8080/",
          "height": 35
        }
      },
      "source": [
        "print(idx)\n",
        "#print(len(dfObj.index))"
      ],
      "execution_count": 0,
      "outputs": [
        {
          "output_type": "stream",
          "text": [
            "[73, 90]\n"
          ],
          "name": "stdout"
        }
      ]
    },
    {
      "cell_type": "code",
      "metadata": {
        "id": "PGx5zAYpDRMV",
        "colab_type": "code",
        "outputId": "c24c0283-0acd-47a8-c83e-2c68bba1eff7",
        "colab": {
          "base_uri": "https://localhost:8080/",
          "height": 52
        }
      },
      "source": [
        "#dfObj = dfObj.drop(73)\n",
        "for x in idx:\n",
        "    print(x)\n",
        "    dfObj = dfObj.drop(x)"
      ],
      "execution_count": 0,
      "outputs": [
        {
          "output_type": "stream",
          "text": [
            "73\n",
            "90\n"
          ],
          "name": "stdout"
        }
      ]
    },
    {
      "cell_type": "code",
      "metadata": {
        "id": "34cwu7nwDRMZ",
        "colab_type": "code",
        "outputId": "2efb7e93-dbc1-4671-de7d-9cc46e6e448b",
        "colab": {
          "base_uri": "https://localhost:8080/",
          "height": 139
        }
      },
      "source": [
        "dfObj.isnull().sum()"
      ],
      "execution_count": 0,
      "outputs": [
        {
          "output_type": "execute_result",
          "data": {
            "text/plain": [
              "Prefix         0\n",
              "Assignment     0\n",
              "Tutorial      10\n",
              "Midterm       14\n",
              "TakeHome       7\n",
              "Final          3\n",
              "dtype: int64"
            ]
          },
          "metadata": {
            "tags": []
          },
          "execution_count": 12
        }
      ]
    },
    {
      "cell_type": "markdown",
      "metadata": {
        "id": "TgXI54LfDxMO",
        "colab_type": "text"
      },
      "source": [
        ""
      ]
    }
  ]
}